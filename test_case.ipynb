{
 "cells": [
  {
   "cell_type": "code",
   "execution_count": 1,
   "metadata": {},
   "outputs": [],
   "source": [
    "import pandas as pd \n",
    "from main import main\n",
    "\n",
    "import warnings\n",
    "warnings.filterwarnings(\"ignore\")\n"
   ]
  },
  {
   "cell_type": "code",
   "execution_count": 2,
   "metadata": {},
   "outputs": [],
   "source": [
    "df = pd.read_csv('sample_score.csv') "
   ]
  },
  {
   "cell_type": "markdown",
   "metadata": {},
   "source": [
    "Simple and direct questions"
   ]
  },
  {
   "cell_type": "code",
   "execution_count": 3,
   "metadata": {},
   "outputs": [
    {
     "name": "stdout",
     "output_type": "stream",
     "text": [
      "📝 The question: What is the highest math score?\n",
      "==================================================\n",
      "\n",
      "💻 The python code:\n",
      "\"```python\n",
      "df['math score'].max()\n",
      "```\"\n",
      "\n",
      "📊 The execution result:\n",
      "91\n",
      "\n",
      "✅ The concluding response:\n",
      "The highest math score is 91.\n",
      "==================================================\n",
      "\n"
     ]
    }
   ],
   "source": [
    "query = \"What is the highest math score?\"\n",
    "main(df,query)"
   ]
  },
  {
   "cell_type": "code",
   "execution_count": 4,
   "metadata": {},
   "outputs": [
    {
     "name": "stdout",
     "output_type": "stream",
     "text": [
      "📝 The question: What is the lowest reading score?\n",
      "==================================================\n",
      "\n",
      "💻 The python code:\n",
      "\"```python\n",
      "df['reading score'].min()\n",
      "```\"\n",
      "\n",
      "📊 The execution result:\n",
      "26\n",
      "\n",
      "✅ The concluding response:\n",
      "The lowest reading score is 26.\n",
      "==================================================\n",
      "\n"
     ]
    }
   ],
   "source": [
    "query = \"What is the lowest reading score?\"\n",
    "main(df,query)"
   ]
  },
  {
   "cell_type": "code",
   "execution_count": 5,
   "metadata": {},
   "outputs": [
    {
     "name": "stdout",
     "output_type": "stream",
     "text": [
      "📝 The question: What are the two lowest writing scores?\n",
      "==================================================\n",
      "\n",
      "💻 The python code:\n",
      "\"```python\n",
      "df['writing score'].sort_values().head(2)\n",
      "```\"\n",
      "\n",
      "📊 The execution result:\n",
      "index  writing score\n",
      "0     11             22\n",
      "1      9             41\n",
      "\n",
      "✅ The concluding response:\n",
      "The two lowest writing scores are 22 and 41, corresponding to indices 11 and 9 respectively.\n",
      "==================================================\n",
      "\n"
     ]
    }
   ],
   "source": [
    "query = \"What are the two lowest writing scores?\"\n",
    "main(df,query)"
   ]
  },
  {
   "cell_type": "code",
   "execution_count": 6,
   "metadata": {},
   "outputs": [
    {
     "name": "stdout",
     "output_type": "stream",
     "text": [
      "📝 The question: How many students whoes reading score more than 80?\n",
      "==================================================\n",
      "\n",
      "💻 The python code:\n",
      "\"```python\n",
      "df[df['reading score'] > 80].shape[0]\n",
      "```\"\n",
      "\n",
      "📊 The execution result:\n",
      "3\n",
      "\n",
      "✅ The concluding response:\n",
      "There are 3 students with a reading score greater than 80.\n",
      "==================================================\n",
      "\n"
     ]
    }
   ],
   "source": [
    "query = \"How many students whoes reading score more than 80?\"\n",
    "main(df,query)"
   ]
  },
  {
   "cell_type": "markdown",
   "metadata": {},
   "source": [
    "Comprehensive questions"
   ]
  },
  {
   "cell_type": "code",
   "execution_count": 7,
   "metadata": {},
   "outputs": [
    {
     "name": "stdout",
     "output_type": "stream",
     "text": [
      "📝 The question: Which gender has a better math score?\n",
      "==================================================\n",
      "\n",
      "💻 The python code:\n",
      "\"```python\n",
      "df.groupby('gender')['math score'].mean()\n",
      "```\"\n",
      "\n",
      "📊 The execution result:\n",
      "gender  math score\n",
      "0  female   60.375000\n",
      "1    male   66.166667\n",
      "\n",
      "✅ The concluding response:\n",
      "Based on the provided data, males have a better math score with an average of\n",
      "==================================================\n",
      "\n"
     ]
    }
   ],
   "source": [
    "query = \"Which gender has a better math score?\"\n",
    "main(df,query)"
   ]
  },
  {
   "cell_type": "code",
   "execution_count": 8,
   "metadata": {},
   "outputs": [
    {
     "name": "stdout",
     "output_type": "stream",
     "text": [
      "📝 The question: If parental level of education has the impact for reading score?\n",
      "==================================================\n",
      "\n",
      "💻 The python code:\n",
      "\"```python\n",
      "df.groupby('parental level of education')['reading score'].mean()\n",
      "```\"\n",
      "\n",
      "📊 The execution result:\n",
      "parental level of education  reading score\n",
      "0          associate's degree      73.800000\n",
      "1           bachelor's degree      59.500000\n",
      "2                 high school\n",
      "\n",
      "✅ The concluding response:\n"
     ]
    },
    {
     "ename": "KeyError",
     "evalue": "'The concluding response:'",
     "output_type": "error",
     "traceback": [
      "\u001b[0;31m---------------------------------------------------------------------------\u001b[0m",
      "\u001b[0;31mKeyError\u001b[0m                                  Traceback (most recent call last)",
      "Cell \u001b[0;32mIn[8], line 2\u001b[0m\n\u001b[1;32m      1\u001b[0m query \u001b[38;5;241m=\u001b[39m \u001b[38;5;124m\"\u001b[39m\u001b[38;5;124mIf parental level of education has the impact for reading score?\u001b[39m\u001b[38;5;124m\"\u001b[39m\n\u001b[0;32m----> 2\u001b[0m \u001b[43mmain\u001b[49m\u001b[43m(\u001b[49m\u001b[43mdf\u001b[49m\u001b[43m,\u001b[49m\u001b[43mquery\u001b[49m\u001b[43m)\u001b[49m\n",
      "File \u001b[0;32m~/Desktop/rag/main.py:28\u001b[0m, in \u001b[0;36mmain\u001b[0;34m(df, query)\u001b[0m\n\u001b[1;32m     25\u001b[0m interp \u001b[38;5;241m=\u001b[39m InterpAgent(interp_prompt, code_model)\n\u001b[1;32m     27\u001b[0m ctx \u001b[38;5;241m=\u001b[39m processor\u001b[38;5;241m.\u001b[39minvoke(query)\n\u001b[0;32m---> 28\u001b[0m \u001b[43minterp\u001b[49m\u001b[38;5;241;43m.\u001b[39;49m\u001b[43minvoke\u001b[49m\u001b[43m(\u001b[49m\u001b[43mctx\u001b[49m\u001b[43m,\u001b[49m\u001b[43m \u001b[49m\u001b[43mquery\u001b[49m\u001b[43m)\u001b[49m\n\u001b[1;32m     29\u001b[0m \u001b[38;5;28;01mreturn\u001b[39;00m \u001b[38;5;28;01mNone\u001b[39;00m\n",
      "File \u001b[0;32m~/Desktop/rag/agent.py:41\u001b[0m, in \u001b[0;36mInterpAgent.invoke\u001b[0;34m(self, context, query)\u001b[0m\n\u001b[1;32m     39\u001b[0m \u001b[38;5;28;01mdef\u001b[39;00m\u001b[38;5;250m \u001b[39m\u001b[38;5;21minvoke\u001b[39m(\u001b[38;5;28mself\u001b[39m, context, query):\n\u001b[1;32m     40\u001b[0m     response \u001b[38;5;241m=\u001b[39m \u001b[38;5;28mself\u001b[39m\u001b[38;5;241m.\u001b[39mprocessor(context, query)\n\u001b[0;32m---> 41\u001b[0m     \u001b[38;5;28;01mreturn\u001b[39;00m \u001b[43mformat_response\u001b[49m\u001b[43m(\u001b[49m\u001b[43mresponse\u001b[49m\u001b[43m)\u001b[49m\n",
      "File \u001b[0;32m~/Desktop/rag/execute.py:71\u001b[0m, in \u001b[0;36mformat_response\u001b[0;34m(response)\u001b[0m\n\u001b[1;32m     68\u001b[0m \u001b[38;5;28mprint\u001b[39m(result_content\u001b[38;5;241m.\u001b[39mreplace(\u001b[38;5;124m'\u001b[39m\u001b[38;5;124m}\u001b[39m\u001b[38;5;124m'\u001b[39m, \u001b[38;5;124m'\u001b[39m\u001b[38;5;124m'\u001b[39m))\n\u001b[1;32m     70\u001b[0m \u001b[38;5;28mprint\u001b[39m(\u001b[38;5;124m\"\u001b[39m\u001b[38;5;130;01m\\n\u001b[39;00m\u001b[38;5;124m✅ The concluding response:\u001b[39m\u001b[38;5;124m\"\u001b[39m)\n\u001b[0;32m---> 71\u001b[0m \u001b[38;5;28mprint\u001b[39m(\u001b[43mresponse_dict\u001b[49m\u001b[43m[\u001b[49m\u001b[38;5;124;43m'\u001b[39;49m\u001b[38;5;124;43mThe concluding response:\u001b[39;49m\u001b[38;5;124;43m'\u001b[39;49m\u001b[43m]\u001b[49m)\n\u001b[1;32m     72\u001b[0m \u001b[38;5;28mprint\u001b[39m(\u001b[38;5;124m\"\u001b[39m\u001b[38;5;124m=\u001b[39m\u001b[38;5;124m\"\u001b[39m \u001b[38;5;241m*\u001b[39m \u001b[38;5;241m50\u001b[39m \u001b[38;5;241m+\u001b[39m \u001b[38;5;124m\"\u001b[39m\u001b[38;5;130;01m\\n\u001b[39;00m\u001b[38;5;124m\"\u001b[39m)\n",
      "\u001b[0;31mKeyError\u001b[0m: 'The concluding response:'"
     ]
    }
   ],
   "source": [
    "query = \"If parental level of education has the impact for reading score?\"\n",
    "main(df,query)"
   ]
  },
  {
   "cell_type": "code",
   "execution_count": null,
   "metadata": {},
   "outputs": [],
   "source": [
    "query = \"What's the best comprehensive score?\"\n",
    "main(df,query)"
   ]
  },
  {
   "cell_type": "code",
   "execution_count": null,
   "metadata": {},
   "outputs": [],
   "source": [
    "query = \"What're the features of the student who has the best writing score?\"\n",
    "main(df,query)"
   ]
  },
  {
   "cell_type": "code",
   "execution_count": null,
   "metadata": {},
   "outputs": [],
   "source": [
    "query = \"What're the features of the student who has the best total score?\"\n",
    "main(df,query)"
   ]
  },
  {
   "cell_type": "markdown",
   "metadata": {},
   "source": [
    "Field approximation"
   ]
  },
  {
   "cell_type": "code",
   "execution_count": null,
   "metadata": {},
   "outputs": [],
   "source": [
    "query = \"If food impacts writing score?\"\n",
    "main(df,query)"
   ]
  },
  {
   "cell_type": "code",
   "execution_count": null,
   "metadata": {},
   "outputs": [],
   "source": [
    "query = \"If students who completed preparation have a better writing score?\"\n",
    "main(df,query)"
   ]
  },
  {
   "cell_type": "code",
   "execution_count": null,
   "metadata": {},
   "outputs": [],
   "source": [
    "query = \"Which racial has the best writing score?\"\n",
    "main(df,query)"
   ]
  },
  {
   "cell_type": "code",
   "execution_count": null,
   "metadata": {},
   "outputs": [],
   "source": []
  },
  {
   "cell_type": "markdown",
   "metadata": {},
   "source": [
    "different df"
   ]
  },
  {
   "cell_type": "code",
   "execution_count": 24,
   "metadata": {},
   "outputs": [],
   "source": [
    "df2 = pd.read_csv('sample_product.csv') "
   ]
  },
  {
   "cell_type": "code",
   "execution_count": null,
   "metadata": {},
   "outputs": [],
   "source": [
    "query = \"What's the worst average rating?\"\n",
    "main(df2,query)"
   ]
  },
  {
   "cell_type": "markdown",
   "metadata": {},
   "source": [
    "Field approximation"
   ]
  },
  {
   "cell_type": "code",
   "execution_count": null,
   "metadata": {},
   "outputs": [],
   "source": [
    "query = \"What's the best satisfaction?\"\n",
    "main(df2,query)"
   ]
  },
  {
   "cell_type": "code",
   "execution_count": null,
   "metadata": {},
   "outputs": [],
   "source": [
    "query = \"What's the average inventory?\"\n",
    "main(df2,query)"
   ]
  },
  {
   "cell_type": "markdown",
   "metadata": {},
   "source": [
    "Comprehensive questions"
   ]
  },
  {
   "cell_type": "code",
   "execution_count": null,
   "metadata": {},
   "outputs": [],
   "source": [
    "query = \"Which product has the highest sales volume?\"\n",
    "main(df2,query)"
   ]
  },
  {
   "cell_type": "code",
   "execution_count": null,
   "metadata": {},
   "outputs": [],
   "source": [
    "query = \"How many products are currently on promotion?\"\n",
    "main(df2,query)"
   ]
  },
  {
   "cell_type": "code",
   "execution_count": null,
   "metadata": {},
   "outputs": [],
   "source": [
    "query = \"What're the features of product which has the best market feedback?\"\n",
    "main(df2,query)"
   ]
  },
  {
   "cell_type": "code",
   "execution_count": null,
   "metadata": {},
   "outputs": [],
   "source": []
  }
 ],
 "metadata": {
  "kernelspec": {
   "display_name": "env",
   "language": "python",
   "name": "python3"
  },
  "language_info": {
   "codemirror_mode": {
    "name": "ipython",
    "version": 3
   },
   "file_extension": ".py",
   "mimetype": "text/x-python",
   "name": "python",
   "nbconvert_exporter": "python",
   "pygments_lexer": "ipython3",
   "version": "3.10.12"
  }
 },
 "nbformat": 4,
 "nbformat_minor": 2
}
