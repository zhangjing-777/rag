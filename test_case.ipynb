{
 "cells": [
  {
   "cell_type": "code",
   "execution_count": 1,
   "metadata": {},
   "outputs": [],
   "source": [
    "import pandas as pd \n",
    "from main import main\n",
    "\n",
    "import warnings\n",
    "warnings.filterwarnings(\"ignore\")\n"
   ]
  },
  {
   "cell_type": "code",
   "execution_count": 2,
   "metadata": {},
   "outputs": [],
   "source": [
    "df = pd.read_csv('data/students_performance.csv') "
   ]
  },
  {
   "cell_type": "code",
   "execution_count": 3,
   "metadata": {},
   "outputs": [
    {
     "data": {
      "text/html": [
       "<div>\n",
       "<style scoped>\n",
       "    .dataframe tbody tr th:only-of-type {\n",
       "        vertical-align: middle;\n",
       "    }\n",
       "\n",
       "    .dataframe tbody tr th {\n",
       "        vertical-align: top;\n",
       "    }\n",
       "\n",
       "    .dataframe thead th {\n",
       "        text-align: right;\n",
       "    }\n",
       "</style>\n",
       "<table border=\"1\" class=\"dataframe\">\n",
       "  <thead>\n",
       "    <tr style=\"text-align: right;\">\n",
       "      <th></th>\n",
       "      <th>gender</th>\n",
       "      <th>race/ethnicity</th>\n",
       "      <th>parental level of education</th>\n",
       "      <th>lunch</th>\n",
       "      <th>test preparation course</th>\n",
       "      <th>math score</th>\n",
       "      <th>reading score</th>\n",
       "      <th>writing score</th>\n",
       "    </tr>\n",
       "  </thead>\n",
       "  <tbody>\n",
       "    <tr>\n",
       "      <th>0</th>\n",
       "      <td>female</td>\n",
       "      <td>group B</td>\n",
       "      <td>bachelor's degree</td>\n",
       "      <td>standard</td>\n",
       "      <td>none</td>\n",
       "      <td>72</td>\n",
       "      <td>72</td>\n",
       "      <td>74</td>\n",
       "    </tr>\n",
       "    <tr>\n",
       "      <th>1</th>\n",
       "      <td>female</td>\n",
       "      <td>group C</td>\n",
       "      <td>some college</td>\n",
       "      <td>standard</td>\n",
       "      <td>completed</td>\n",
       "      <td>69</td>\n",
       "      <td>90</td>\n",
       "      <td>88</td>\n",
       "    </tr>\n",
       "  </tbody>\n",
       "</table>\n",
       "</div>"
      ],
      "text/plain": [
       "   gender race/ethnicity parental level of education     lunch  \\\n",
       "0  female        group B           bachelor's degree  standard   \n",
       "1  female        group C                some college  standard   \n",
       "\n",
       "  test preparation course  math score  reading score  writing score  \n",
       "0                    none          72             72             74  \n",
       "1               completed          69             90             88  "
      ]
     },
     "execution_count": 3,
     "metadata": {},
     "output_type": "execute_result"
    }
   ],
   "source": [
    "df.head(2)"
   ]
  },
  {
   "cell_type": "code",
   "execution_count": 4,
   "metadata": {},
   "outputs": [
    {
     "data": {
      "text/plain": [
       "(1000, 8)"
      ]
     },
     "execution_count": 4,
     "metadata": {},
     "output_type": "execute_result"
    }
   ],
   "source": [
    "df.shape"
   ]
  },
  {
   "cell_type": "markdown",
   "metadata": {},
   "source": [
    "Simple and direct questions"
   ]
  },
  {
   "cell_type": "code",
   "execution_count": 5,
   "metadata": {},
   "outputs": [
    {
     "name": "stdout",
     "output_type": "stream",
     "text": [
      "📝 The question: What is the highest math score?\n",
      "==================================================\n",
      "\n",
      "💻 The python code:\n",
      "\"```python\n",
      "df['math score'].max()\n",
      "```\"\n",
      "\n",
      "📊 The execution result:\n",
      "100\n",
      "\n",
      "✅ The concluding response:\n",
      "The highest math score achieved is 100, as determined by the maximum value in the 'math score' column of the dataset.\n",
      "==================================================\n",
      "\n"
     ]
    }
   ],
   "source": [
    "query = \"What is the highest math score?\"\n",
    "main(df,query)"
   ]
  },
  {
   "cell_type": "code",
   "execution_count": 6,
   "metadata": {},
   "outputs": [
    {
     "name": "stdout",
     "output_type": "stream",
     "text": [
      "📝 The question: What is the lowest reading score?\n",
      "==================================================\n",
      "\n",
      "💻 The python code:\n",
      "\"```python\n",
      "df['reading score'].min()\n",
      "```\"\n",
      "\n",
      "📊 The execution result:\n",
      "17\n",
      "\n",
      "✅ The concluding response:\n",
      "The lowest reading score is 17, as determined by the minimum value in the 'reading score' column of the dataset.\n",
      "==================================================\n",
      "\n"
     ]
    }
   ],
   "source": [
    "query = \"What is the lowest reading score?\"\n",
    "main(df,query)"
   ]
  },
  {
   "cell_type": "code",
   "execution_count": 7,
   "metadata": {},
   "outputs": [
    {
     "name": "stdout",
     "output_type": "stream",
     "text": [
      "📝 The question: What are the two lowest writing scores?\n",
      "==================================================\n",
      "\n",
      "💻 The python code:\n",
      "\"```python\n",
      "df['writing score'].nsmallest(2)\n",
      "```\"\n",
      "\n",
      "📊 The execution result:\n",
      "index  writing score\n",
      "0     59             10\n",
      "1    596             15\n",
      "\n",
      "✅ The concluding response:\n",
      "The two lowest writing scores are 10 and 15, corresponding to index values 59 and 596, respectively, indicating the weakest writing performance.\n",
      "==================================================\n",
      "\n"
     ]
    }
   ],
   "source": [
    "query = \"What are the two lowest writing scores?\"\n",
    "main(df,query)"
   ]
  },
  {
   "cell_type": "code",
   "execution_count": 8,
   "metadata": {},
   "outputs": [
    {
     "name": "stdout",
     "output_type": "stream",
     "text": [
      "📝 The question: How many students whoes reading score more than 80?\n",
      "==================================================\n",
      "\n",
      "💻 The python code:\n",
      "\"```python\n",
      "df[df['reading score'] > 80].shape[0]\n",
      "```\"\n",
      "\n",
      "📊 The execution result:\n",
      "235\n",
      "\n",
      "✅ The concluding response:\n",
      "There are 235 students whose reading score is more than 80, indicating a significant number of students have achieved a high reading score.\n",
      "==================================================\n",
      "\n"
     ]
    }
   ],
   "source": [
    "query = \"How many students whoes reading score more than 80?\"\n",
    "main(df,query)"
   ]
  },
  {
   "cell_type": "markdown",
   "metadata": {},
   "source": [
    "Comprehensive questions"
   ]
  },
  {
   "cell_type": "code",
   "execution_count": 9,
   "metadata": {},
   "outputs": [
    {
     "name": "stdout",
     "output_type": "stream",
     "text": [
      "📝 The question: Which gender has a better math score?\n",
      "==================================================\n",
      "\n",
      "💻 The python code:\n",
      "\"```python\n",
      "df.groupby('gender')['math score'].mean()\n",
      "```\"\n",
      "\n",
      "📊 The execution result:\n",
      "gender  math score\n",
      "0  female   63.633205\n",
      "1    male   68.728216\n",
      "\n",
      "✅ The concluding response:\n",
      "The data indicates that males have a better math score, with an average of 68.728216, compared to females who have an average of 63.633205.\n",
      "==================================================\n",
      "\n"
     ]
    }
   ],
   "source": [
    "query = \"Which gender has a better math score?\"\n",
    "main(df,query)"
   ]
  },
  {
   "cell_type": "code",
   "execution_count": 10,
   "metadata": {},
   "outputs": [
    {
     "name": "stdout",
     "output_type": "stream",
     "text": [
      "📝 The question: If parental level of education has the impact for reading score?\n",
      "==================================================\n",
      "\n",
      "💻 The python code:\n",
      "\"```python\n",
      "df.groupby('parental level of education')['reading score'].mean()\n",
      "```\"\n",
      "\n",
      "📊 The execution result:\n",
      "parental level of education  reading score\n",
      "0          associate's degree      70.927928\n",
      "1           bachelor's degree      73.000000\n",
      "2                 high school      64.704082\n",
      "3             master's degree      75.372881\n",
      "4                some college      69.460177\n",
      "5            some high school      66.938547\n",
      "\n",
      "✅ The concluding response:\n",
      "The data suggests that parental level of education has a positive impact on reading scores, as higher levels of education are associated with higher average reading scores, with master's degree having the highest average reading score of 75.37.\n",
      "==================================================\n",
      "\n"
     ]
    }
   ],
   "source": [
    "query = \"If parental level of education has the impact for reading score?\"\n",
    "main(df,query)"
   ]
  },
  {
   "cell_type": "code",
   "execution_count": 11,
   "metadata": {},
   "outputs": [
    {
     "name": "stdout",
     "output_type": "stream",
     "text": [
      "📝 The question: What's the best comprehensive score?\n",
      "==================================================\n",
      "\n",
      "💻 The python code:\n",
      "\"```python\n",
      "df[['reading score' 'writing score' 'math score']].sum(axis=1).max()\n",
      "```\"\n",
      "\n",
      "📊 The execution result:\n",
      "300\n",
      "\n",
      "✅ The concluding response:\n",
      "The best comprehensive score is 300, as determined by summing the reading, writing, and math scores and finding the maximum total score.\n",
      "==================================================\n",
      "\n"
     ]
    }
   ],
   "source": [
    "query = \"What's the best comprehensive score?\"\n",
    "main(df,query)"
   ]
  },
  {
   "cell_type": "code",
   "execution_count": 12,
   "metadata": {},
   "outputs": [
    {
     "name": "stdout",
     "output_type": "stream",
     "text": [
      "📝 The question: What're the features of the student who has the best writing score?\n",
      "==================================================\n",
      "\n",
      "💻 The python code:\n",
      "\"```python\n",
      "df.iloc[df['writing score'].idxmax()]\n",
      "```\"\n",
      "\n",
      "📊 The execution result:\n",
      "index              106\n",
      "0                       gender           female\n",
      "1               race/ethnicity          group D\n",
      "2  parental level of education  master's degree\n",
      "3                        lunch         standard\n",
      "4      test preparation course             none\n",
      "5                   math score               87\n",
      "6                reading score              100\n",
      "7                writing score              100\n",
      "\n",
      "✅ The concluding response:\n",
      "The student with the best writing score is a female from group D, with a master's degree in parental level of education, having standard lunch, and no test preparation course, who achieved a math score of 87, a reading score of 100, and a perfect writing score of 100.\n",
      "==================================================\n",
      "\n"
     ]
    }
   ],
   "source": [
    "query = \"What're the features of the student who has the best writing score?\"\n",
    "main(df,query)"
   ]
  },
  {
   "cell_type": "code",
   "execution_count": 13,
   "metadata": {},
   "outputs": [
    {
     "name": "stdout",
     "output_type": "stream",
     "text": [
      "📝 The question: What're the features of the student who has the best total score?\n",
      "==================================================\n",
      "\n",
      "💻 The python code:\n",
      "\"```python\n",
      "df.iloc[df[['reading score' 'writing score' 'math score']].sum(axis=1).idxmax()]\n",
      "```\"\n",
      "\n",
      "📊 The execution result:\n",
      "index                458\n",
      "0                       gender             female\n",
      "1               race/ethnicity            group E\n",
      "2  parental level of education  bachelor's degree\n",
      "3                        lunch           standard\n",
      "4      test preparation course               none\n",
      "5                   math score                100\n",
      "6                reading score                100\n",
      "7                writing score                100\n",
      "\n",
      "✅ The concluding response:\n",
      "The student with the best total score is a female from group E, with a bachelor's degree as her parental level of education, having standard lunch and no test preparation course, and achieving perfect scores in math, reading, and writing.\n",
      "==================================================\n",
      "\n"
     ]
    }
   ],
   "source": [
    "query = \"What're the features of the student who has the best total score?\"\n",
    "main(df,query)"
   ]
  },
  {
   "cell_type": "markdown",
   "metadata": {},
   "source": [
    "Field approximation"
   ]
  },
  {
   "cell_type": "code",
   "execution_count": 14,
   "metadata": {},
   "outputs": [
    {
     "name": "stdout",
     "output_type": "stream",
     "text": [
      "📝 The question: If food impacts writing score?\n",
      "==================================================\n",
      "\n",
      "💻 The python code:\n",
      "\"```python\n",
      "df.groupby('lunch')['writing score'].mean()\n",
      "```\"\n",
      "\n",
      "📊 The execution result:\n",
      "lunch  writing score\n",
      "0  free/reduced      63.022535\n",
      "1      standard      70.823256\n",
      "\n",
      "✅ The concluding response:\n",
      "The data suggests that food may impact writing score, as students receiving free or reduced lunch have a lower average writing score of 63.02 compared to those with standard lunch, who have an average writing score of 70.82.\n",
      "==================================================\n",
      "\n"
     ]
    }
   ],
   "source": [
    "query = \"If food impacts writing score?\"\n",
    "main(df,query)"
   ]
  },
  {
   "cell_type": "code",
   "execution_count": 15,
   "metadata": {},
   "outputs": [
    {
     "name": "stdout",
     "output_type": "stream",
     "text": [
      "📝 The question: If students who completed preparation have a better writing score?\n",
      "==================================================\n",
      "\n",
      "💻 The python code:\n",
      "\"```python\n",
      "df.groupby('test preparation course')['writing score'].mean()\n",
      "```\"\n",
      "\n",
      "📊 The execution result:\n",
      "test preparation course  writing score\n",
      "0               completed      74.418994\n",
      "1                    none      64.504673\n",
      "\n",
      "✅ The concluding response:\n",
      "The data analysis indicates that students who completed the preparation course have a higher average writing score of 74.42 compared to those who did not, suggesting that completing the preparation course is associated with better writing performance.\n",
      "==================================================\n",
      "\n"
     ]
    }
   ],
   "source": [
    "query = \"If students who completed preparation have a better writing score?\"\n",
    "main(df,query)"
   ]
  },
  {
   "cell_type": "code",
   "execution_count": 16,
   "metadata": {},
   "outputs": [
    {
     "name": "stdout",
     "output_type": "stream",
     "text": [
      "📝 The question: Which racial has the best writing score?\n",
      "==================================================\n",
      "\n",
      "💻 The python code:\n",
      "\"```python\n",
      "df.groupby('race/ethnicity')['writing score'].mean().idxmax()\n",
      "```\"\n",
      "\n",
      "📊 The execution result:\n",
      "'group E'\n",
      "\n",
      "✅ The concluding response:\n",
      "The analysis reveals that group E has attained the highest average writing score, thereby indicating it as the racial group with the best writing performance.\n",
      "==================================================\n",
      "\n"
     ]
    }
   ],
   "source": [
    "query = \"Which racial has the best writing score?\"\n",
    "main(df,query)"
   ]
  },
  {
   "cell_type": "code",
   "execution_count": null,
   "metadata": {},
   "outputs": [],
   "source": []
  },
  {
   "cell_type": "markdown",
   "metadata": {},
   "source": [
    "different df"
   ]
  },
  {
   "cell_type": "code",
   "execution_count": 17,
   "metadata": {},
   "outputs": [],
   "source": [
    "df2 = pd.read_csv('data/product.csv') "
   ]
  },
  {
   "cell_type": "code",
   "execution_count": 18,
   "metadata": {},
   "outputs": [
    {
     "name": "stdout",
     "output_type": "stream",
     "text": [
      "📝 The question: What's the worst average rating?\n",
      "==================================================\n",
      "\n",
      "💻 The python code:\n",
      "\"```python\n",
      "df['average rating'].min()\n",
      "```\"\n",
      "\n",
      "📊 The execution result:\n",
      "1.1\n",
      "\n",
      "✅ The concluding response:\n",
      "The worst average rating is 1.1, indicating the lowest level of satisfaction or performance among the available data.\n",
      "==================================================\n",
      "\n"
     ]
    }
   ],
   "source": [
    "query = \"What's the worst average rating?\"\n",
    "main(df2,query)"
   ]
  },
  {
   "cell_type": "markdown",
   "metadata": {},
   "source": [
    "Field approximation"
   ]
  },
  {
   "cell_type": "code",
   "execution_count": 19,
   "metadata": {},
   "outputs": [
    {
     "name": "stdout",
     "output_type": "stream",
     "text": [
      "📝 The question: What's the best satisfaction?\n",
      "==================================================\n",
      "\n",
      "💻 The python code:\n",
      "\"```python\n",
      "df['customer satisfaction'].max()\n",
      "```\"\n",
      "\n",
      "📊 The execution result:\n",
      "9.8\n",
      "\n",
      "✅ The concluding response:\n",
      "The best satisfaction is 9.8, indicating the highest level of customer satisfaction achieved.\n",
      "==================================================\n",
      "\n"
     ]
    }
   ],
   "source": [
    "query = \"What's the best satisfaction?\"\n",
    "main(df2,query)"
   ]
  },
  {
   "cell_type": "code",
   "execution_count": 20,
   "metadata": {},
   "outputs": [
    {
     "name": "stdout",
     "output_type": "stream",
     "text": [
      "📝 The question: What's the average inventory?\n",
      "==================================================\n",
      "\n",
      "💻 The python code:\n",
      "\"```python\n",
      "df['stock'].mean()\n",
      "```\"\n",
      "\n",
      "📊 The execution result:\n",
      "23.2\n",
      "\n",
      "✅ The concluding response:\n",
      "The average inventory is 23.2, indicating that the mean stock level across the dataset is approximately 23.2 units.\n",
      "==================================================\n",
      "\n"
     ]
    }
   ],
   "source": [
    "query = \"What's the average inventory?\"\n",
    "main(df2,query)"
   ]
  },
  {
   "cell_type": "markdown",
   "metadata": {},
   "source": [
    "Comprehensive questions"
   ]
  },
  {
   "cell_type": "code",
   "execution_count": 21,
   "metadata": {},
   "outputs": [
    {
     "name": "stdout",
     "output_type": "stream",
     "text": [
      "📝 The question: Which product has the highest sales volume?\n",
      "==================================================\n",
      "\n",
      "💻 The python code:\n",
      "\"```python\n",
      "df.loc[df['sales volume'].idxmax()]['product name']\n",
      "```\"\n",
      "\n",
      "📊 The execution result:\n",
      "'Product9'\n",
      "\n",
      "✅ The concluding response:\n",
      "The analysis result indicates that Product9 has achieved the highest sales volume, making it the product with the highest sales performance.\n",
      "==================================================\n",
      "\n"
     ]
    }
   ],
   "source": [
    "query = \"Which product has the highest sales volume?\"\n",
    "main(df2,query)"
   ]
  },
  {
   "cell_type": "code",
   "execution_count": 22,
   "metadata": {},
   "outputs": [
    {
     "name": "stdout",
     "output_type": "stream",
     "text": [
      "📝 The question: How many products are currently on promotion?\n",
      "==================================================\n",
      "\n",
      "💻 The python code:\n",
      "\"```python\n",
      "df['on promotion'].value_counts()\n",
      "```\"\n",
      "\n",
      "📊 The execution result:\n",
      "on promotion  count\n",
      "0           No      5\n",
      "1          Yes      5\n",
      "\n",
      "✅ The concluding response:\n",
      "There are 5 products that are currently on promotion, as indicated by the 'Yes' count in the execution result.\n",
      "==================================================\n",
      "\n"
     ]
    }
   ],
   "source": [
    "query = \"How many products are currently on promotion?\"\n",
    "main(df2,query)"
   ]
  },
  {
   "cell_type": "code",
   "execution_count": 23,
   "metadata": {},
   "outputs": [
    {
     "name": "stdout",
     "output_type": "stream",
     "text": [
      "📝 The question: What're the features of product which has the best market feedback?\n",
      "==================================================\n",
      "\n",
      "💻 The python code:\n",
      "\"```python\n",
      "df.iloc[df['market feedback'].idxmax()]\n",
      "```\"\n",
      "\n",
      "📊 The execution result:\n",
      "index                     0\n",
      "0              product id                     1\n",
      "1            product name              Product1\n",
      "2                category           Electronics\n",
      "3                   price                326.49\n",
      "4            sales volume                    10\n",
      "5            review count                   243\n",
      "6          average rating                   4.8\n",
      "7                   stock                    17\n",
      "8             launch date            2022-01-01\n",
      "9            on promotion                    No\n",
      "10     promotion discount                   0.3\n",
      "11            return rate                  0.14\n",
      "12  customer satisfaction                   7.1\n",
      "13        market feedback                  Poor\n",
      "14       advertising cost                570.92\n",
      "15                 region                  East\n",
      "16       competitor price                 142.3\n",
      "17         product weight                  4.31\n",
      "18           product size                 Large\n",
      "19        launch platform  Third-party Platform\n",
      "\n",
      "✅ The concluding response:\n",
      "The product with the best market feedback has a product id of 1, named Product1, belonging to the Electronics category, with a price of 326.49, and other features as shown, but surprisingly, its market feedback is rated as Poor, indicating a potential discrepancy in the data or evaluation criteria.\n",
      "==================================================\n",
      "\n"
     ]
    }
   ],
   "source": [
    "query = \"What're the features of product which has the best market feedback?\"\n",
    "main(df2,query)"
   ]
  },
  {
   "cell_type": "code",
   "execution_count": null,
   "metadata": {},
   "outputs": [],
   "source": []
  }
 ],
 "metadata": {
  "kernelspec": {
   "display_name": "env",
   "language": "python",
   "name": "python3"
  },
  "language_info": {
   "codemirror_mode": {
    "name": "ipython",
    "version": 3
   },
   "file_extension": ".py",
   "mimetype": "text/x-python",
   "name": "python",
   "nbconvert_exporter": "python",
   "pygments_lexer": "ipython3",
   "version": "3.10.12"
  }
 },
 "nbformat": 4,
 "nbformat_minor": 2
}
