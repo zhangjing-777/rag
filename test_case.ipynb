{
 "cells": [
  {
   "cell_type": "code",
   "execution_count": 1,
   "metadata": {},
   "outputs": [],
   "source": [
    "import pandas as pd \n",
    "from main import main\n",
    "\n",
    "import warnings\n",
    "warnings.filterwarnings(\"ignore\")\n"
   ]
  },
  {
   "cell_type": "code",
   "execution_count": 2,
   "metadata": {},
   "outputs": [],
   "source": [
    "df = pd.read_csv('sample_score.csv') "
   ]
  },
  {
   "cell_type": "markdown",
   "metadata": {},
   "source": [
    "Simple and direct questions"
   ]
  },
  {
   "cell_type": "code",
   "execution_count": 3,
   "metadata": {},
   "outputs": [
    {
     "name": "stdout",
     "output_type": "stream",
     "text": [
      "📝 The question: What is the highest math score?\n",
      "==================================================\n",
      "\n",
      "💻 The python code:\n",
      "\"```python\n",
      "df['math score'].max()\n",
      "```\"\n",
      "\n",
      "📊 The execution result:\n",
      "91\n",
      "\n",
      "✅ The concluding response:\n",
      "The highest math score achieved is 91, as determined by the maximum value in the 'math score' column of the dataset.\n",
      "==================================================\n",
      "\n"
     ]
    }
   ],
   "source": [
    "query = \"What is the highest math score?\"\n",
    "main(df,query)"
   ]
  },
  {
   "cell_type": "code",
   "execution_count": 4,
   "metadata": {},
   "outputs": [
    {
     "name": "stdout",
     "output_type": "stream",
     "text": [
      "📝 The question: What is the lowest reading score?\n",
      "==================================================\n",
      "\n",
      "💻 The python code:\n",
      "\"```python\n",
      "df['reading score'].min()\n",
      "```\"\n",
      "\n",
      "📊 The execution result:\n",
      "26\n",
      "\n",
      "✅ The concluding response:\n",
      "The lowest reading score is 26, as determined by the minimum value in the 'reading score' column of the dataset.\n",
      "==================================================\n",
      "\n"
     ]
    }
   ],
   "source": [
    "query = \"What is the lowest reading score?\"\n",
    "main(df,query)"
   ]
  },
  {
   "cell_type": "code",
   "execution_count": 5,
   "metadata": {},
   "outputs": [
    {
     "name": "stdout",
     "output_type": "stream",
     "text": [
      "📝 The question: What are the two lowest writing scores?\n",
      "==================================================\n",
      "\n",
      "💻 The python code:\n",
      "\"```python\n",
      "df['writing score'].nsmallest(2)\n",
      "```\"\n",
      "\n",
      "📊 The execution result:\n",
      "index  writing score\n",
      "0     11             22\n",
      "1      9             41\n",
      "\n",
      "✅ The concluding response:\n",
      "The two lowest writing scores are 22 and 41, associated with indices 11 and 9, respectively, indicating that these are the lowest writing scores in the dataset.\n",
      "==================================================\n",
      "\n"
     ]
    }
   ],
   "source": [
    "query = \"What are the two lowest writing scores?\"\n",
    "main(df,query)"
   ]
  },
  {
   "cell_type": "code",
   "execution_count": 6,
   "metadata": {},
   "outputs": [
    {
     "name": "stdout",
     "output_type": "stream",
     "text": [
      "📝 The question: How many students whoes reading score more than 80?\n",
      "==================================================\n",
      "\n",
      "💻 The python code:\n",
      "\"```python\n",
      "df[df['reading score'] > 80].shape[0]\n",
      "```\"\n",
      "\n",
      "📊 The execution result:\n",
      "3\n",
      "\n",
      "✅ The concluding response:\n",
      "There are 3 students whose reading score is more than 80, as indicated by the execution result of the provided Python code.\n",
      "==================================================\n",
      "\n"
     ]
    }
   ],
   "source": [
    "query = \"How many students whoes reading score more than 80?\"\n",
    "main(df,query)"
   ]
  },
  {
   "cell_type": "markdown",
   "metadata": {},
   "source": [
    "Comprehensive questions"
   ]
  },
  {
   "cell_type": "code",
   "execution_count": 7,
   "metadata": {},
   "outputs": [
    {
     "name": "stdout",
     "output_type": "stream",
     "text": [
      "📝 The question: Which gender has a better math score?\n",
      "==================================================\n",
      "\n",
      "💻 The python code:\n",
      "\"```python\n",
      "df.groupby('gender')['math score'].mean()\n",
      "```\"\n",
      "\n",
      "📊 The execution result:\n",
      "gender  math score\n",
      "0  female   60.375000\n",
      "1    male   66.166667\n",
      "\n",
      "✅ The concluding response:\n",
      "The data indicates that males have a better math score, with an average of 66.17, compared to females, who have an average of 60.38.\n",
      "==================================================\n",
      "\n"
     ]
    }
   ],
   "source": [
    "query = \"Which gender has a better math score?\"\n",
    "main(df,query)"
   ]
  },
  {
   "cell_type": "code",
   "execution_count": 8,
   "metadata": {},
   "outputs": [
    {
     "name": "stdout",
     "output_type": "stream",
     "text": [
      "📝 The question: If parental level of education has the impact for reading score?\n",
      "==================================================\n",
      "\n",
      "💻 The python code:\n",
      "\"```python\n",
      "df.groupby('parental level of education')['reading score'].mean()\n",
      "```\"\n",
      "\n",
      "📊 The execution result:\n",
      "parental level of education  reading score\n",
      "0          associate's degree      73.800000\n",
      "1           bachelor's degree      59.500000\n",
      "2                 high school      59.666667\n",
      "3                some college      74.400000\n",
      "4            some high school      55.400000\n",
      "\n",
      "✅ The concluding response:\n",
      "The data suggests that parental level of education has an impact on reading scores, with students whose parents have some college or an associate's degree tend to have higher average reading scores compared to those with other levels of parental education.\n",
      "==================================================\n",
      "\n"
     ]
    }
   ],
   "source": [
    "query = \"If parental level of education has the impact for reading score?\"\n",
    "main(df,query)"
   ]
  },
  {
   "cell_type": "code",
   "execution_count": 9,
   "metadata": {},
   "outputs": [
    {
     "name": "stdout",
     "output_type": "stream",
     "text": [
      "📝 The question: What's the best comprehensive score?\n",
      "==================================================\n",
      "\n",
      "💻 The python code:\n",
      "\"```python\n",
      "df[['reading score' 'writing score' 'math score']].sum(axis=1).max()\n",
      "```\"\n",
      "\n",
      "📊 The execution result:\n",
      "261\n",
      "\n",
      "✅ The concluding response:\n",
      "The best comprehensive score is 261, indicating the highest total score achieved by summing the reading, writing, and math scores.\n",
      "==================================================\n",
      "\n"
     ]
    }
   ],
   "source": [
    "query = \"What's the best comprehensive score?\"\n",
    "main(df,query)"
   ]
  },
  {
   "cell_type": "code",
   "execution_count": 10,
   "metadata": {},
   "outputs": [
    {
     "name": "stdout",
     "output_type": "stream",
     "text": [
      "📝 The question: What're the features of the student who has the best writing score?\n",
      "==================================================\n",
      "\n",
      "💻 The python code:\n",
      "\"```python\n",
      "df.iloc[df['writing score'].idxmax()]\n",
      "```\"\n",
      "\n",
      "📊 The execution result:\n",
      "index            14\n",
      "0                       gender          male\n",
      "1               race/ethnicity       group D\n",
      "2  parental level of education  some college\n",
      "3                        lunch      standard\n",
      "4      test preparation course     completed\n",
      "5                   math score            85\n",
      "6                reading score            81\n",
      "7                writing score            85\n",
      "\n",
      "✅ The concluding response:\n",
      "The student with the best writing score is a male from group D, with a parental level of education of some college, receiving a standard lunch, and having completed a test preparation course, achieving scores of 85 in writing, 85 in math, and 81 in reading.\n",
      "==================================================\n",
      "\n"
     ]
    }
   ],
   "source": [
    "query = \"What're the features of the student who has the best writing score?\"\n",
    "main(df,query)"
   ]
  },
  {
   "cell_type": "code",
   "execution_count": 12,
   "metadata": {},
   "outputs": [
    {
     "name": "stdout",
     "output_type": "stream",
     "text": [
      "📝 The question: What're the features of the student who has the best total score?\n",
      "==================================================\n",
      "\n",
      "💻 The python code:\n",
      "\"```python\n",
      "df.iloc[df[['reading score' 'writing score' 'math score']].sum(axis=1).idxmax()]\n",
      "```\"\n",
      "\n",
      "📊 The execution result:\n",
      "index                   0\n",
      "0                       gender              female\n",
      "1               race/ethnicity             group C\n",
      "2  parental level of education  associate's degree\n",
      "3                        lunch            standard\n",
      "4      test preparation course                none\n",
      "5                   math score                  91\n",
      "6                reading score                  86\n",
      "7                writing score                  84\n",
      "\n",
      "✅ The concluding response:\n",
      "The student with the best total score is a female from group C, with an associate's degree parental level of education, having standard lunch and no test preparation course, and achieving scores of 91 in math, 86 in reading, and 84 in writing.\n",
      "==================================================\n",
      "\n"
     ]
    }
   ],
   "source": [
    "query = \"What're the features of the student who has the best total score?\"\n",
    "main(df,query)"
   ]
  },
  {
   "cell_type": "markdown",
   "metadata": {},
   "source": [
    "Field approximation"
   ]
  },
  {
   "cell_type": "code",
   "execution_count": 13,
   "metadata": {},
   "outputs": [
    {
     "name": "stdout",
     "output_type": "stream",
     "text": [
      "📝 The question: If food impacts writing score?\n",
      "==================================================\n",
      "\n",
      "💻 The python code:\n",
      "\"```python\n",
      "df.groupby('lunch')['writing score'].mean()\n",
      "```\"\n",
      "\n",
      "📊 The execution result:\n",
      "lunch  writing score\n",
      "0  free/reduced           65.7\n",
      "1      standard           62.2\n",
      "\n",
      "✅ The concluding response:\n",
      "The data suggests that food may have an impact on writing score, as students receiving free or reduced lunch have a higher average writing score of 65.7 compared to those with standard lunch at 62.2.\n",
      "==================================================\n",
      "\n"
     ]
    }
   ],
   "source": [
    "query = \"If food impacts writing score?\"\n",
    "main(df,query)"
   ]
  },
  {
   "cell_type": "code",
   "execution_count": 14,
   "metadata": {},
   "outputs": [
    {
     "name": "stdout",
     "output_type": "stream",
     "text": [
      "📝 The question: If students who completed preparation have a better writing score?\n",
      "==================================================\n",
      "\n",
      "💻 The python code:\n",
      "\"```python\n",
      "df.groupby('test preparation course')['writing score'].mean()\n",
      "```\"\n",
      "\n",
      "📊 The execution result:\n",
      "test preparation course  writing score\n",
      "0               completed         70.625\n",
      "1                    none         59.500\n",
      "\n",
      "✅ The concluding response:\n",
      "The data suggests that students who completed the preparation course have a better writing score, with an average of 70.625, compared to those who did not, who have an average of 59.500.\n",
      "==================================================\n",
      "\n"
     ]
    }
   ],
   "source": [
    "query = \"If students who completed preparation have a better writing score?\"\n",
    "main(df,query)"
   ]
  },
  {
   "cell_type": "code",
   "execution_count": 15,
   "metadata": {},
   "outputs": [
    {
     "name": "stdout",
     "output_type": "stream",
     "text": [
      "📝 The question: Which racial has the best writing score?\n",
      "==================================================\n",
      "\n",
      "💻 The python code:\n",
      "\"```python\n",
      "df.groupby('race/ethnicity')['writing score'].mean().idxmax()\n",
      "```\"\n",
      "\n",
      "📊 The execution result:\n",
      "'group C'\n",
      "\n",
      "✅ The concluding response:\n",
      "The analysis reveals that group C has achieved the highest average writing score, making it the racial group with the best writing performance.\n",
      "==================================================\n",
      "\n"
     ]
    }
   ],
   "source": [
    "query = \"Which racial has the best writing score?\"\n",
    "main(df,query)"
   ]
  },
  {
   "cell_type": "code",
   "execution_count": null,
   "metadata": {},
   "outputs": [],
   "source": []
  },
  {
   "cell_type": "markdown",
   "metadata": {},
   "source": [
    "different df"
   ]
  },
  {
   "cell_type": "code",
   "execution_count": 16,
   "metadata": {},
   "outputs": [],
   "source": [
    "df2 = pd.read_csv('sample_product.csv') "
   ]
  },
  {
   "cell_type": "code",
   "execution_count": 17,
   "metadata": {},
   "outputs": [
    {
     "name": "stdout",
     "output_type": "stream",
     "text": [
      "📝 The question: What's the worst average rating?\n",
      "==================================================\n",
      "\n",
      "💻 The python code:\n",
      "\"```python\n",
      "df['average rating'].min()\n",
      "```\"\n",
      "\n",
      "📊 The execution result:\n",
      "1.1\n",
      "\n",
      "✅ The concluding response:\n",
      "The worst average rating is 1.1, indicating the lowest level of satisfaction or performance among the available data.\n",
      "==================================================\n",
      "\n"
     ]
    }
   ],
   "source": [
    "query = \"What's the worst average rating?\"\n",
    "main(df2,query)"
   ]
  },
  {
   "cell_type": "markdown",
   "metadata": {},
   "source": [
    "Field approximation"
   ]
  },
  {
   "cell_type": "code",
   "execution_count": 18,
   "metadata": {},
   "outputs": [
    {
     "name": "stdout",
     "output_type": "stream",
     "text": [
      "📝 The question: What's the best satisfaction?\n",
      "==================================================\n",
      "\n",
      "💻 The python code:\n",
      "\"```python\n",
      "df['customer satisfaction'].max()\n",
      "```\"\n",
      "\n",
      "📊 The execution result:\n",
      "9.8\n",
      "\n",
      "✅ The concluding response:\n",
      "The best satisfaction is 9.8, as indicated by the maximum value in the customer satisfaction dataset.\n",
      "==================================================\n",
      "\n"
     ]
    }
   ],
   "source": [
    "query = \"What's the best satisfaction?\"\n",
    "main(df2,query)"
   ]
  },
  {
   "cell_type": "code",
   "execution_count": 19,
   "metadata": {},
   "outputs": [
    {
     "name": "stdout",
     "output_type": "stream",
     "text": [
      "📝 The question: What's the average inventory?\n",
      "==================================================\n",
      "\n",
      "💻 The python code:\n",
      "\"```python\n",
      "df['stock'].mean()\n",
      "```\"\n",
      "\n",
      "📊 The execution result:\n",
      "23.2\n",
      "\n",
      "✅ The concluding response:\n",
      "The average inventory is 23.2, indicating that the mean stock level across the dataset is approximately 23.2 units.\n",
      "==================================================\n",
      "\n"
     ]
    }
   ],
   "source": [
    "query = \"What's the average inventory?\"\n",
    "main(df2,query)"
   ]
  },
  {
   "cell_type": "markdown",
   "metadata": {},
   "source": [
    "Comprehensive questions"
   ]
  },
  {
   "cell_type": "code",
   "execution_count": 20,
   "metadata": {},
   "outputs": [
    {
     "name": "stdout",
     "output_type": "stream",
     "text": [
      "📝 The question: Which product has the highest sales volume?\n",
      "==================================================\n",
      "\n",
      "💻 The python code:\n",
      "\"```python\n",
      "df.loc[df['sales volume'].idxmax()]['product name']\n",
      "```\"\n",
      "\n",
      "📊 The execution result:\n",
      "'Product9'\n",
      "\n",
      "✅ The concluding response:\n",
      "The analysis result indicates that Product9 has achieved the highest sales volume, making it the product with the highest sales performance.\n",
      "==================================================\n",
      "\n"
     ]
    }
   ],
   "source": [
    "query = \"Which product has the highest sales volume?\"\n",
    "main(df2,query)"
   ]
  },
  {
   "cell_type": "code",
   "execution_count": 21,
   "metadata": {},
   "outputs": [
    {
     "name": "stdout",
     "output_type": "stream",
     "text": [
      "📝 The question: How many products are currently on promotion?\n",
      "==================================================\n",
      "\n",
      "💻 The python code:\n",
      "\"```python\n",
      "df['on promotion'].value_counts()\n",
      "```\"\n",
      "\n",
      "📊 The execution result:\n",
      "on promotion  count\n",
      "0           No      5\n",
      "1          Yes      5\n",
      "\n",
      "✅ The concluding response:\n",
      "There are 5 products that are currently on promotion, as indicated by the 'Yes' count in the execution result.\n",
      "==================================================\n",
      "\n"
     ]
    }
   ],
   "source": [
    "query = \"How many products are currently on promotion?\"\n",
    "main(df2,query)"
   ]
  },
  {
   "cell_type": "code",
   "execution_count": 22,
   "metadata": {},
   "outputs": [
    {
     "name": "stdout",
     "output_type": "stream",
     "text": [
      "Code execution error: Cannot index by location index with a non-integer key\n",
      "📝 The question: What're the features of product which has the best market feedback?\n",
      "==================================================\n",
      "\n",
      "💻 The python code:\n",
      "\"```python\n",
      "df.iloc[df['market feedback'].idxmax()]\n",
      "```\"\n",
      "\n",
      "📊 The execution result:\n",
      "index                     0\n",
      "0              product id                     1\n",
      "1            product name              Product1\n",
      "2                category           Electronics\n",
      "3                   price                326.49\n",
      "4            sales volume                    10\n",
      "5            review count                   243\n",
      "6          average rating                   4.8\n",
      "7                   stock                    17\n",
      "8             launch date            2022-01-01\n",
      "9            on promotion                    No\n",
      "10     promotion discount                   0.3\n",
      "11            return rate                  0.14\n",
      "12  customer satisfaction                   7.1\n",
      "13        market feedback                  Poor\n",
      "14       advertising cost                570.92\n",
      "15                 region                  East\n",
      "16       competitor price                 142.3\n",
      "17         product weight                  4.31\n",
      "18           product size                 Large\n",
      "19        launch platform  Third-party Platform\n",
      "\n",
      "✅ The concluding response:\n",
      "The product with the best market feedback has a product id of 1, named Product1, belonging to the Electronics category, with a price of 326.49, and other features as shown, but surprisingly, its market feedback is rated as Poor, indicating a potential discrepancy in the data.\n",
      "==================================================\n",
      "\n"
     ]
    }
   ],
   "source": [
    "query = \"What're the features of product which has the best market feedback?\"\n",
    "main(df2,query)"
   ]
  },
  {
   "cell_type": "code",
   "execution_count": null,
   "metadata": {},
   "outputs": [],
   "source": []
  }
 ],
 "metadata": {
  "kernelspec": {
   "display_name": "env",
   "language": "python",
   "name": "python3"
  },
  "language_info": {
   "codemirror_mode": {
    "name": "ipython",
    "version": 3
   },
   "file_extension": ".py",
   "mimetype": "text/x-python",
   "name": "python",
   "nbconvert_exporter": "python",
   "pygments_lexer": "ipython3",
   "version": "3.10.12"
  }
 },
 "nbformat": 4,
 "nbformat_minor": 2
}
